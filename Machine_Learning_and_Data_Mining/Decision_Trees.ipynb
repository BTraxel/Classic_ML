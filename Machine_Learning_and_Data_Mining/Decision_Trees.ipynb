{
 "nbformat": 4,
 "nbformat_minor": 0,
 "metadata": {
  "kernelspec": {
   "display_name": "Python 3",
   "language": "python",
   "name": "python3"
  },
  "language_info": {
   "codemirror_mode": {
    "name": "ipython",
    "version": 3
   },
   "file_extension": ".py",
   "mimetype": "text/x-python",
   "name": "python",
   "nbconvert_exporter": "python",
   "pygments_lexer": "ipython3",
   "version": "3.6.8"
  },
  "colab": {
   "name": "P5 Decision Tree and Logistic Regression.ipynb",
   "provenance": []
  }
 },
 "cells": [
  {
   "cell_type": "markdown",
   "metadata": {
    "id": "dLg0sqn36J3_"
   },
   "source": [
    "\n",
    "\n",
    "# Setup"
   ]
  },
  {
   "cell_type": "markdown",
   "source": [
    "If the program is too slow reduce the number of iteration in RandomizedSearchCV, line 26 code cell number 7"
   ],
   "metadata": {
    "collapsed": false
   }
  },
  {
   "cell_type": "code",
   "execution_count": 1,
   "outputs": [],
   "source": [
    "# Python ≥3.5 is required\n",
    "import sys\n",
    "assert sys.version_info >= (3, 5)\n",
    "\n",
    "# Scikit-Learn ≥0.20 is \n",
    "import sklearn\n",
    "assert sklearn.__version__ >= \"0.20\"\n",
    "\n",
    "# Common imports\n",
    "import numpy as np\n",
    "import os\n",
    "\n",
    "# to make this notebook's output stable across runs\n",
    "np.random.seed(42)\n",
    "\n",
    "# To plot pretty figures\n",
    "%matplotlib inline\n",
    "import matplotlib as mpl\n",
    "import matplotlib.pyplot as plt\n",
    "mpl.rc('axes', labelsize=14)\n",
    "mpl.rc('xtick', labelsize=12)\n",
    "mpl.rc('ytick', labelsize=12)"
   ],
   "metadata": {
    "collapsed": false
   }
  },
  {
   "cell_type": "markdown",
   "source": [
    "# Training and visualizing"
   ],
   "metadata": {
    "collapsed": false
   }
  },
  {
   "cell_type": "code",
   "execution_count": 2,
   "outputs": [],
   "source": [
    "from sklearn.datasets import load_iris\n",
    "from sklearn.tree import DecisionTreeClassifier,plot_tree\n",
    "import pandas as pd\n",
    "\n",
    "file_name = \"df_vector.pkl\"\n",
    "wiki = pd.read_pickle(file_name)"
   ],
   "metadata": {
    "collapsed": false
   }
  },
  {
   "cell_type": "code",
   "execution_count": 3,
   "outputs": [],
   "source": [
    "X = (np.stack(wiki.FeatureVector.to_numpy())).copy()\n",
    "y = wiki.Theme.copy()\n"
   ],
   "metadata": {
    "collapsed": false
   }
  },
  {
   "cell_type": "code",
   "execution_count": 4,
   "outputs": [
    {
     "data": {
      "text/plain": "DecisionTreeClassifier(max_depth=2, random_state=42)",
      "text/html": "<style>#sk-container-id-1 {color: black;background-color: white;}#sk-container-id-1 pre{padding: 0;}#sk-container-id-1 div.sk-toggleable {background-color: white;}#sk-container-id-1 label.sk-toggleable__label {cursor: pointer;display: block;width: 100%;margin-bottom: 0;padding: 0.3em;box-sizing: border-box;text-align: center;}#sk-container-id-1 label.sk-toggleable__label-arrow:before {content: \"▸\";float: left;margin-right: 0.25em;color: #696969;}#sk-container-id-1 label.sk-toggleable__label-arrow:hover:before {color: black;}#sk-container-id-1 div.sk-estimator:hover label.sk-toggleable__label-arrow:before {color: black;}#sk-container-id-1 div.sk-toggleable__content {max-height: 0;max-width: 0;overflow: hidden;text-align: left;background-color: #f0f8ff;}#sk-container-id-1 div.sk-toggleable__content pre {margin: 0.2em;color: black;border-radius: 0.25em;background-color: #f0f8ff;}#sk-container-id-1 input.sk-toggleable__control:checked~div.sk-toggleable__content {max-height: 200px;max-width: 100%;overflow: auto;}#sk-container-id-1 input.sk-toggleable__control:checked~label.sk-toggleable__label-arrow:before {content: \"▾\";}#sk-container-id-1 div.sk-estimator input.sk-toggleable__control:checked~label.sk-toggleable__label {background-color: #d4ebff;}#sk-container-id-1 div.sk-label input.sk-toggleable__control:checked~label.sk-toggleable__label {background-color: #d4ebff;}#sk-container-id-1 input.sk-hidden--visually {border: 0;clip: rect(1px 1px 1px 1px);clip: rect(1px, 1px, 1px, 1px);height: 1px;margin: -1px;overflow: hidden;padding: 0;position: absolute;width: 1px;}#sk-container-id-1 div.sk-estimator {font-family: monospace;background-color: #f0f8ff;border: 1px dotted black;border-radius: 0.25em;box-sizing: border-box;margin-bottom: 0.5em;}#sk-container-id-1 div.sk-estimator:hover {background-color: #d4ebff;}#sk-container-id-1 div.sk-parallel-item::after {content: \"\";width: 100%;border-bottom: 1px solid gray;flex-grow: 1;}#sk-container-id-1 div.sk-label:hover label.sk-toggleable__label {background-color: #d4ebff;}#sk-container-id-1 div.sk-serial::before {content: \"\";position: absolute;border-left: 1px solid gray;box-sizing: border-box;top: 0;bottom: 0;left: 50%;z-index: 0;}#sk-container-id-1 div.sk-serial {display: flex;flex-direction: column;align-items: center;background-color: white;padding-right: 0.2em;padding-left: 0.2em;position: relative;}#sk-container-id-1 div.sk-item {position: relative;z-index: 1;}#sk-container-id-1 div.sk-parallel {display: flex;align-items: stretch;justify-content: center;background-color: white;position: relative;}#sk-container-id-1 div.sk-item::before, #sk-container-id-1 div.sk-parallel-item::before {content: \"\";position: absolute;border-left: 1px solid gray;box-sizing: border-box;top: 0;bottom: 0;left: 50%;z-index: -1;}#sk-container-id-1 div.sk-parallel-item {display: flex;flex-direction: column;z-index: 1;position: relative;background-color: white;}#sk-container-id-1 div.sk-parallel-item:first-child::after {align-self: flex-end;width: 50%;}#sk-container-id-1 div.sk-parallel-item:last-child::after {align-self: flex-start;width: 50%;}#sk-container-id-1 div.sk-parallel-item:only-child::after {width: 0;}#sk-container-id-1 div.sk-dashed-wrapped {border: 1px dashed gray;margin: 0 0.4em 0.5em 0.4em;box-sizing: border-box;padding-bottom: 0.4em;background-color: white;}#sk-container-id-1 div.sk-label label {font-family: monospace;font-weight: bold;display: inline-block;line-height: 1.2em;}#sk-container-id-1 div.sk-label-container {text-align: center;}#sk-container-id-1 div.sk-container {/* jupyter's `normalize.less` sets `[hidden] { display: none; }` but bootstrap.min.css set `[hidden] { display: none !important; }` so we also need the `!important` here to be able to override the default hidden behavior on the sphinx rendered scikit-learn.org. See: https://github.com/scikit-learn/scikit-learn/issues/21755 */display: inline-block !important;position: relative;}#sk-container-id-1 div.sk-text-repr-fallback {display: none;}</style><div id=\"sk-container-id-1\" class=\"sk-top-container\"><div class=\"sk-text-repr-fallback\"><pre>DecisionTreeClassifier(max_depth=2, random_state=42)</pre><b>In a Jupyter environment, please rerun this cell to show the HTML representation or trust the notebook. <br />On GitHub, the HTML representation is unable to render, please try loading this page with nbviewer.org.</b></div><div class=\"sk-container\" hidden><div class=\"sk-item\"><div class=\"sk-estimator sk-toggleable\"><input class=\"sk-toggleable__control sk-hidden--visually\" id=\"sk-estimator-id-1\" type=\"checkbox\" checked><label for=\"sk-estimator-id-1\" class=\"sk-toggleable__label sk-toggleable__label-arrow\">DecisionTreeClassifier</label><div class=\"sk-toggleable__content\"><pre>DecisionTreeClassifier(max_depth=2, random_state=42)</pre></div></div></div></div></div>"
     },
     "execution_count": 4,
     "metadata": {},
     "output_type": "execute_result"
    }
   ],
   "source": [
    "tree_clf = DecisionTreeClassifier(max_depth=2, random_state=42)\n",
    "tree_clf.fit(X, y)"
   ],
   "metadata": {
    "collapsed": false
   }
  },
  {
   "cell_type": "code",
   "execution_count": 5,
   "outputs": [
    {
     "data": {
      "text/plain": "<Figure size 640x480 with 1 Axes>",
      "image/png": "[encoded data removed]"
     },
     "metadata": {},
     "output_type": "display_data"
    }
   ],
   "source": [
    "plot_tree(tree_clf);"
   ],
   "metadata": {
    "collapsed": false
   }
  },
  {
   "cell_type": "markdown",
   "source": [
    "# Predicting classes and class probabilities"
   ],
   "metadata": {
    "collapsed": false
   }
  },
  {
   "cell_type": "code",
   "execution_count": 6,
   "outputs": [
    {
     "name": "stdout",
     "output_type": "stream",
     "text": [
      "Accuracy_score =  0.3440643863179074\n",
      "Precision_score =  0.3440643863179074\n",
      "Recall_score =  0.3440643863179074\n",
      "F1_score =  0.3440643863179074\n",
      "------------------------------------\n",
      "Accuracy_score_cross =  0.3380281690140845\n",
      "Precision_score_cross =  0.3380281690140845\n",
      "Recall_score_cross =  0.3380281690140845\n",
      "F1_score_cross =  0.3380281690140845\n"
     ]
    }
   ],
   "source": [
    "from sklearn.model_selection import cross_val_predict\n",
    "from sklearn.metrics import accuracy_score, precision_score, recall_score, f1_score, roc_auc_score, confusion_matrix\n",
    "\n",
    "y_pred_tree = tree_clf.predict(X)\n",
    "y_pred_cross = cross_val_predict(tree_clf, X, y, cv=10)\n",
    "\n",
    "\n",
    "Accuracy_score = accuracy_score(y, y_pred_tree)\n",
    "Precision_score = precision_score(y, y_pred_tree, average='micro')\n",
    "Recall_score = recall_score(y, y_pred_tree, average='micro')\n",
    "F1_score = f1_score(y, y_pred_tree, average='micro')\n",
    "\n",
    "Accuracy_score_cross = accuracy_score(y, y_pred_cross)\n",
    "Precision_score_cross = precision_score(y, y_pred_cross, average='micro')\n",
    "Recall_score_cross = recall_score(y, y_pred_cross, average='micro')\n",
    "F1_score_cross = f1_score(y, y_pred_cross, average='micro')\n",
    "\n",
    "\n",
    "print(\"Accuracy_score = \",Accuracy_score)\n",
    "print(\"Precision_score = \",Precision_score)\n",
    "print(\"Recall_score = \",Recall_score)\n",
    "print(\"F1_score = \",F1_score)\n",
    "print(\"------------------------------------\")\n",
    "print(\"Accuracy_score_cross = \",Accuracy_score_cross)\n",
    "print(\"Precision_score_cross = \",Precision_score_cross)\n",
    "print(\"Recall_score_cross = \",Recall_score_cross)\n",
    "print(\"F1_score_cross = \",F1_score_cross)"
   ],
   "metadata": {
    "collapsed": false
   }
  },
  {
   "cell_type": "code",
   "execution_count": null,
   "outputs": [],
   "source": [
    "from sklearn.model_selection import RandomizedSearchCV\n",
    "\n",
    "max_depth = [4,10,50,100,None]\n",
    "min_samples_split = [2,5,20,40,80]\n",
    "min_samples_leaf = [1,2,4,8,16]\n",
    "criterion = [\"gini\",\"entropy\",\"log_loss\"]\n",
    "splitter = [\"best\",\"random\"]\n",
    "max_features = [10,\"sqrt\",\"log2\",None]\n",
    "random_state = [10,20,60,None]\n",
    "max_leaf_nodes = [2,5,10,30,None]\n",
    "ccp_alpha = [0.0,0.5,1.0,2.0]\n",
    "\n",
    "random_grid = {\n",
    "                'max_depth': max_depth,\n",
    "                'min_samples_split': min_samples_split,\n",
    "                'min_samples_leaf': min_samples_leaf,\n",
    "                'criterion':criterion,\n",
    "                'splitter':splitter,\n",
    "                'max_features':max_features,\n",
    "                'random_state':random_state,\n",
    "                'max_leaf_nodes':max_leaf_nodes,\n",
    "                'ccp_alpha':ccp_alpha,\n",
    "}\n",
    "\n",
    "\n",
    "model_tuned = RandomizedSearchCV(estimator = DecisionTreeClassifier(), param_distributions = random_grid, n_iter = 1000, scoring='accuracy', cv = 10, return_train_score= True, refit=True)\n",
    "\n",
    "model_tuned.fit(X,y)"
   ],
   "metadata": {
    "collapsed": false,
    "pycharm": {
     "is_executing": true
    }
   }
  },
  {
   "cell_type": "code",
   "execution_count": null,
   "outputs": [],
   "source": [
    "print(\"-----------------------------------------------------------------------------\")\n",
    "print(\"-Comparison of the efficiency of the different parameters ranked by accuracy-\")\n",
    "print(\"-----------------------------------------------------------------------------\")\n",
    "df_results = pd.DataFrame(model_tuned.cv_results_)\n",
    "print(df_results)"
   ],
   "metadata": {
    "collapsed": false,
    "pycharm": {
     "is_executing": true
    }
   }
  },
  {
   "cell_type": "code",
   "execution_count": null,
   "outputs": [],
   "source": [
    "print(\"-----------------------\")\n",
    "print(\"------Best score-------\")\n",
    "print(\"-----------------------\")\n",
    "print(model_tuned.best_score_)"
   ],
   "metadata": {
    "collapsed": false,
    "pycharm": {
     "is_executing": true
    }
   }
  },
  {
   "cell_type": "code",
   "execution_count": null,
   "outputs": [],
   "source": [
    "print(\"-----------------------\")\n",
    "print(\"------Best params------\")\n",
    "print(\"-----------------------\")\n",
    "print(model_tuned.best_params_)"
   ],
   "metadata": {
    "collapsed": false,
    "pycharm": {
     "is_executing": true
    }
   }
  },
  {
   "cell_type": "code",
   "execution_count": null,
   "outputs": [],
   "source": [
    "best_tree_clf = model_tuned.best_estimator_\n",
    "plot_tree(best_tree_clf)"
   ],
   "metadata": {
    "collapsed": false,
    "pycharm": {
     "is_executing": true
    }
   }
  },
  {
   "cell_type": "markdown",
   "source": [
    "We can see that the main change between our first tree and this optimise tree is max_depth, our previous tree had a depth of only 2 restraining the tree from gaining more complexity allowing it to be more accurate. Here we have a depth of 100. A high min number of samples split also helps gain accuracy."
   ],
   "metadata": {
    "collapsed": false
   }
  },
  {
   "cell_type": "code",
   "execution_count": null,
   "outputs": [],
   "source": [
    "from sklearn.model_selection import train_test_split\n",
    "\n",
    "\n",
    "split1 = 0.3\n",
    "X_train1, X_test1, y_train1, y_test1 = train_test_split(X, y, test_size=split1)\n",
    "\n",
    "split2 = split1 + 0.7 * 0.3\n",
    "\n",
    "X_train2, X_test2, y_train2, y_test2 = train_test_split(X, y, test_size=split2)\n",
    "\n",
    "split3 = split1 + 0.7 * 0.6\n",
    "X_train3, X_test3, y_train3, y_test3 = train_test_split(X, y, test_size=split3)\n",
    "\n",
    "best_tree_clf.fit(X_train1, y_train1)\n",
    "y_pred_tree_train1 = best_tree_clf.predict(X_train1)\n",
    "y_pred_tree_test1 = best_tree_clf.predict(X_test1)\n",
    "\n",
    "best_tree_clf.fit(X_train2, y_train2)\n",
    "y_pred_tree_train2 = best_tree_clf.predict(X_train2)\n",
    "y_pred_tree_test2 = best_tree_clf.predict(X_test2)\n",
    "\n",
    "best_tree_clf.fit(X_train3, y_train3)\n",
    "y_pred_tree_train3 = best_tree_clf.predict(X_train3)\n",
    "y_pred_tree_test3 = best_tree_clf.predict(X_test3)\n",
    "\n",
    "\n",
    "Accuracy_score_train1 = accuracy_score(y_train1, y_pred_tree_train1)\n",
    "Accuracy_score_test1 = accuracy_score(y_test1, y_pred_tree_test1)\n",
    "\n",
    "Accuracy_score_train2 = accuracy_score(y_train2, y_pred_tree_train2)\n",
    "Accuracy_score_test2 = accuracy_score(y_test2, y_pred_tree_test2)\n",
    "\n",
    "Accuracy_score_train3 = accuracy_score(y_train3, y_pred_tree_train3)\n",
    "Accuracy_score_test3 = accuracy_score(y_test3, y_pred_tree_test3)\n",
    "\n",
    "print(y_pred_tree_train1)\n",
    "print(y_train1)\n",
    "\n",
    "print(\"-----------------\")\n",
    "print(\"------Test 1-----\")\n",
    "print(\"-----------------\")\n",
    "print(\"Accuracy on train set: \",Accuracy_score_train1)\n",
    "print(\"Accuracy on test set: \",Accuracy_score_test1)\n",
    "print(\"-----------------\")\n",
    "print(\"------Test 3-----\")\n",
    "print(\"-----------------\")\n",
    "print(\"Accuracy on train set: \",Accuracy_score_train2)\n",
    "print(\"Accuracy on test set: \",Accuracy_score_test2)\n",
    "print(\"-----------------\")\n",
    "print(\"------Test 3-----\")\n",
    "print(\"-----------------\")\n",
    "print(\"Accuracy on train set: \",Accuracy_score_train3)\n",
    "print(\"Accuracy on test set: \",Accuracy_score_test3)\n"
   ],
   "metadata": {
    "collapsed": false,
    "pycharm": {
     "is_executing": true
    }
   }
  },
  {
   "cell_type": "markdown",
   "source": [
    "While moving 30% of our training set to our test set has a light positive impact on test set accuracy which is the most important. There is a drop in training and in testing accuracy when we move 60% of our training set to our test set because of over-fitting problems. Using a tree classifier on our data-set doesn't give us great accuracy making the analysis of the over-fitting effect more difficult."
   ],
   "metadata": {
    "collapsed": false
   }
  },
  {
   "cell_type": "code",
   "execution_count": null,
   "outputs": [],
   "source": [
    "best_tree_clf = model_tuned.best_estimator_\n",
    "plot_tree(best_tree_clf)"
   ],
   "metadata": {
    "collapsed": false,
    "pycharm": {
     "is_executing": true
    }
   }
  },
  {
   "cell_type": "markdown",
   "source": [
    "We can see that the main change between our first tree and this optimise tree is max_depth, our previous tree had a depth of only 2 restraining the tree from gaining more complexity allowing it to be more accurate. Here we have a depth of 100. A high min number of samples split also helps gain accuracy."
   ],
   "metadata": {
    "collapsed": false
   }
  },
  {
   "cell_type": "code",
   "execution_count": null,
   "outputs": [],
   "source": [
    "from sklearn.model_selection import train_test_split\n",
    "\n",
    "\n",
    "split1 = 0.3\n",
    "X_train1, X_test1, y_train1, y_test1 = train_test_split(X, y, test_size=split1)\n",
    "\n",
    "split2 = split1 + 0.7 * 0.3\n",
    "\n",
    "X_train2, X_test2, y_train2, y_test2 = train_test_split(X, y, test_size=split2)\n",
    "\n",
    "split3 = split1 + 0.7 * 0.6\n",
    "X_train3, X_test3, y_train3, y_test3 = train_test_split(X, y, test_size=split3)\n",
    "\n",
    "best_tree_clf.fit(X_train1, y_train1)\n",
    "y_pred_tree_train1 = best_tree_clf.predict(X_train1)\n",
    "y_pred_tree_test1 = best_tree_clf.predict(X_test1)\n",
    "\n",
    "best_tree_clf.fit(X_train2, y_train2)\n",
    "y_pred_tree_train2 = best_tree_clf.predict(X_train2)\n",
    "y_pred_tree_test2 = best_tree_clf.predict(X_test2)\n",
    "\n",
    "best_tree_clf.fit(X_train3, y_train3)\n",
    "y_pred_tree_train3 = best_tree_clf.predict(X_train3)\n",
    "y_pred_tree_test3 = best_tree_clf.predict(X_test3)\n",
    "\n",
    "\n",
    "Accuracy_score_train1 = accuracy_score(y_train1, y_pred_tree_train1)\n",
    "Accuracy_score_test1 = accuracy_score(y_test1, y_pred_tree_test1)\n",
    "\n",
    "Accuracy_score_train2 = accuracy_score(y_train2, y_pred_tree_train2)\n",
    "Accuracy_score_test2 = accuracy_score(y_test2, y_pred_tree_test2)\n",
    "\n",
    "Accuracy_score_train3 = accuracy_score(y_train3, y_pred_tree_train3)\n",
    "Accuracy_score_test3 = accuracy_score(y_test3, y_pred_tree_test3)\n",
    "\n",
    "print(y_pred_tree_train1)\n",
    "print(y_train1)\n",
    "\n",
    "print(\"-----------------\")\n",
    "print(\"------Test 1-----\")\n",
    "print(\"-----------------\")\n",
    "print(\"Accuracy on train set: \",Accuracy_score_train1)\n",
    "print(\"Accuracy on test set: \",Accuracy_score_test1)\n",
    "print(\"-----------------\")\n",
    "print(\"------Test 3-----\")\n",
    "print(\"-----------------\")\n",
    "print(\"Accuracy on train set: \",Accuracy_score_train2)\n",
    "print(\"Accuracy on test set: \",Accuracy_score_test2)\n",
    "print(\"-----------------\")\n",
    "print(\"------Test 3-----\")\n",
    "print(\"-----------------\")\n",
    "print(\"Accuracy on train set: \",Accuracy_score_train3)\n",
    "print(\"Accuracy on test set: \",Accuracy_score_test3)\n"
   ],
   "metadata": {
    "collapsed": false,
    "pycharm": {
     "is_executing": true
    }
   }
  },
  {
   "cell_type": "markdown",
   "source": [
    "While moving 30% of our training set to our test set has a light positive impact on test set accuracy which is the most important. There is a drop in training and in testing accuracy when we move 60% of our training set to our test set because of over-fitting problems. Using a tree classifier on our data-set doesn't give us great accuracy making the analysis of the over-fitting effect more difficult."
   ],
   "metadata": {
    "collapsed": false
   }
  }
 ]
}

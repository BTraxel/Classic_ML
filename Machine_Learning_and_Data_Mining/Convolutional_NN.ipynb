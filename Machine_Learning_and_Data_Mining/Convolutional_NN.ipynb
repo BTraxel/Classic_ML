{
 "cells": [
  {
   "cell_type": "code",
   "execution_count": 13,
   "metadata": {
    "collapsed": true
   },
   "outputs": [],
   "source": [
    "import numpy as np\n",
    "import time\n",
    "import keras\n",
    "import pandas as pd\n",
    "from sklearn.model_selection import train_test_split"
   ]
  },
  {
   "cell_type": "code",
   "execution_count": 14,
   "outputs": [],
   "source": [
    "X = np.squeeze(np.load('src/smiley_X.npy'))\n",
    "y = np.load('src/smiley_y.npy')\n",
    "y = keras.utils.to_categorical(y-1, num_classes = 2)"
   ],
   "metadata": {
    "collapsed": false
   }
  },
  {
   "cell_type": "code",
   "execution_count": 15,
   "outputs": [],
   "source": [
    "x_train, x_test, y_train, y_test = train_test_split(X, y, test_size=0.2, random_state=5)\n"
   ],
   "metadata": {
    "collapsed": false
   }
  },
  {
   "cell_type": "code",
   "execution_count": 16,
   "outputs": [
    {
     "data": {
      "text/plain": "(115, 9, 9, 1)"
     },
     "execution_count": 16,
     "metadata": {},
     "output_type": "execute_result"
    }
   ],
   "source": [
    "x_train = x_train.reshape(115, 9, 9, 1)\n",
    "x_test = x_test.reshape(29, 9, 9, 1)\n",
    "x_train.shape #28*28=784"
   ],
   "metadata": {
    "collapsed": false
   }
  },
  {
   "cell_type": "code",
   "execution_count": 17,
   "outputs": [
    {
     "name": "stdout",
     "output_type": "stream",
     "text": [
      "Model: \"sequential_1\"\n",
      "_________________________________________________________________\n",
      " Layer (type)                Output Shape              Param #   \n",
      "=================================================================\n",
      " conv2d_2 (Conv2D)           (None, 8, 8, 32)          160       \n",
      "                                                                 \n",
      " max_pooling2d_2 (MaxPooling  (None, 4, 4, 32)         0         \n",
      " 2D)                                                             \n",
      "                                                                 \n",
      " conv2d_3 (Conv2D)           (None, 3, 3, 32)          4128      \n",
      "                                                                 \n",
      " max_pooling2d_3 (MaxPooling  (None, 1, 1, 32)         0         \n",
      " 2D)                                                             \n",
      "                                                                 \n",
      " flatten_1 (Flatten)         (None, 32)                0         \n",
      "                                                                 \n",
      " dense_2 (Dense)             (None, 8)                 264       \n",
      "                                                                 \n",
      " dense_3 (Dense)             (None, 2)                 18        \n",
      "                                                                 \n",
      "=================================================================\n",
      "Total params: 4,570\n",
      "Trainable params: 4,570\n",
      "Non-trainable params: 0\n",
      "_________________________________________________________________\n"
     ]
    }
   ],
   "source": [
    "model = keras.models.Sequential([\n",
    "  keras.layers.Conv2D(32, (2,2), activation='relu', input_shape=(9, 9, 1)),\n",
    "  keras.layers.MaxPooling2D(2, 2),\n",
    "  keras.layers.Conv2D(32, (2,2), activation='relu'),\n",
    "  keras.layers.MaxPooling2D(2,2),\n",
    "  keras.layers.Flatten(),\n",
    "  keras.layers.Dense(8, activation='relu'),\n",
    "  keras.layers.Dense(2, activation='softmax')\n",
    "])\n",
    "model.compile(optimizer='adam', loss=keras.losses.categorical_crossentropy, metrics=[keras.metrics.categorical_accuracy, keras.metrics.TruePositives(), keras.metrics.FalsePositives(), keras.metrics.TrueNegatives(), keras.metrics.FalseNegatives(), keras.metrics.Precision(), keras.metrics.Recall()])\n",
    "model.summary()"
   ],
   "metadata": {
    "collapsed": false
   }
  },
  {
   "cell_type": "code",
   "execution_count": 18,
   "outputs": [
    {
     "name": "stdout",
     "output_type": "stream",
     "text": [
      "Epoch 1/5\n",
      "4/4 [==============================] - 2s 4ms/step - loss: 0.6909 - categorical_accuracy: 0.4696 - true_positives_1: 54.0000 - false_positives_1: 61.0000 - true_negatives_1: 54.0000 - false_negatives_1: 61.0000 - precision_1: 0.4696 - recall_1: 0.4696\n",
      "Epoch 2/5\n",
      "4/4 [==============================] - 0s 3ms/step - loss: 0.6798 - categorical_accuracy: 0.6087 - true_positives_1: 70.0000 - false_positives_1: 45.0000 - true_negatives_1: 70.0000 - false_negatives_1: 45.0000 - precision_1: 0.6087 - recall_1: 0.6087\n",
      "Epoch 3/5\n",
      "4/4 [==============================] - 0s 3ms/step - loss: 0.6711 - categorical_accuracy: 0.6174 - true_positives_1: 71.0000 - false_positives_1: 44.0000 - true_negatives_1: 71.0000 - false_negatives_1: 44.0000 - precision_1: 0.6174 - recall_1: 0.6174\n",
      "Epoch 4/5\n",
      "4/4 [==============================] - 0s 4ms/step - loss: 0.6605 - categorical_accuracy: 0.5826 - true_positives_1: 67.0000 - false_positives_1: 48.0000 - true_negatives_1: 67.0000 - false_negatives_1: 48.0000 - precision_1: 0.5826 - recall_1: 0.5826\n",
      "Epoch 5/5\n",
      "4/4 [==============================] - 0s 3ms/step - loss: 0.6486 - categorical_accuracy: 0.6087 - true_positives_1: 70.0000 - false_positives_1: 45.0000 - true_negatives_1: 70.0000 - false_negatives_1: 45.0000 - precision_1: 0.6087 - recall_1: 0.6087\n",
      "1/1 [==============================] - 0s 412ms/step - loss: 0.6175 - categorical_accuracy: 0.6207 - true_positives_1: 18.0000 - false_positives_1: 11.0000 - true_negatives_1: 18.0000 - false_negatives_1: 11.0000 - precision_1: 0.6207 - recall_1: 0.6207\n"
     ]
    },
    {
     "data": {
      "text/plain": "[0.6175036430358887,\n 0.6206896305084229,\n 18.0,\n 11.0,\n 18.0,\n 11.0,\n 0.6206896305084229,\n 0.6206896305084229]"
     },
     "execution_count": 18,
     "metadata": {},
     "output_type": "execute_result"
    }
   ],
   "source": [
    "model.fit(x_train,y_train, epochs=5)\n",
    "model.evaluate(x_test,y_test)"
   ],
   "metadata": {
    "collapsed": false
   }
  },
  {
   "cell_type": "markdown",
   "source": [
    "# Experiment With Various Parameters That Control The Learning\n",
    "Configuration Suite"
   ],
   "metadata": {
    "collapsed": false
   },
   "outputs": [
    {
     "ename": "SyntaxError",
     "evalue": "invalid syntax (2732198641.py, line 2)",
     "output_type": "error",
     "traceback": [
      "\u001B[1;36m  Cell \u001B[1;32mIn [7], line 2\u001B[1;36m\u001B[0m\n\u001B[1;33m    Configuration Suite\u001B[0m\n\u001B[1;37m                  ^\u001B[0m\n\u001B[1;31mSyntaxError\u001B[0m\u001B[1;31m:\u001B[0m invalid syntax\n"
     ]
    }
   ],
   "execution_count": 7
  },
  {
   "cell_type": "markdown",
   "source": [],
   "metadata": {
    "collapsed": false
   }
  },
  {
   "cell_type": "code",
   "execution_count": 19,
   "outputs": [],
   "source": [
    "X = X.reshape(144,9,9,1)\n",
    "\n",
    "optimisations = [keras.optimizers.SGD, keras.optimizers.RMSprop, keras.optimizers.Adam, keras.optimizers.Nadam]\n",
    "epochs = [3, 5, 10]\n",
    "η_list = [0.1, 0.01, 0.001]\n",
    "layer_list = [[64,16,2],[32,8,2],[16,4,2]]\n",
    "pooling_list = [(1,1),(2,2)]\n",
    "activations = [\"sigmoid\", \"tanh\", \"relu\", \"LeakyReLU\"]"
   ],
   "metadata": {
    "collapsed": false
   }
  },
  {
   "cell_type": "code",
   "execution_count": 20,
   "outputs": [],
   "source": [
    "from sklearn.model_selection import KFold\n",
    "\n",
    "run_config_suit = False\n",
    "file_name = \"df_CNN.pkl\"\n",
    "kf = KFold(n_splits = 10)\n",
    "\n",
    "if run_config_suit:\n",
    "    start = time.time()\n",
    "    list_of_results = []\n",
    "    list_of_crossedevaluated = []\n",
    "    for act in activations:\n",
    "        for η in η_list:\n",
    "            for layer in layer_list:\n",
    "                for opt in optimisations:\n",
    "                    for pooling in pooling_list:\n",
    "                        print(\"\\n####################################################################################\")\n",
    "                        print(\"Layers    Pool  Eta  Act   <Optimisation>\")\n",
    "                        print(f\"{layer} {pooling} {η} {act} {opt}\")\n",
    "                        print(\"Epoch: [Loss, Accuracy, TP, FP, TN, FN, Precision, Recall]\")\n",
    "                        for epoch in epochs:\n",
    "                            model = keras.models.Sequential([\n",
    "                                keras.layers.Conv2D(layer[0], (2,2), activation=act, input_shape=(9, 9, 1)),\n",
    "                                keras.layers.MaxPooling2D(pooling[0],pooling[1]),\n",
    "                                keras.layers.Conv2D(layer[0], (2,2), activation=act),\n",
    "                                keras.layers.MaxPooling2D(pooling[0],pooling[1]),\n",
    "                                keras.layers.Flatten(),\n",
    "                                keras.layers.Dense(layer[1], activation=act),\n",
    "                                keras.layers.Dense(2, activation='softmax')\n",
    "                            ])\n",
    "                            model.compile(loss=keras.losses.categorical_crossentropy,\n",
    "                                                  optimizer=opt(learning_rate=η),\n",
    "                                                  metrics=[keras.metrics.categorical_accuracy, keras.metrics.TruePositives(), keras.metrics.FalsePositives(), keras.metrics.TrueNegatives(), keras.metrics.FalseNegatives(), keras.metrics.Precision(), keras.metrics.Recall()])\n",
    "\n",
    "                            for train, test in kf.split(X):\n",
    "                                model.fit(X[train],y[train], epochs=epoch, verbose= 0)\n",
    "                                result = model.evaluate(X[test],y[test], verbose= 0)\n",
    "                                list_of_crossedevaluated.append(result)\n",
    "\n",
    "                            config = [opt, η, epoch, act, pooling, layer]\n",
    "\n",
    "                            loss = 0\n",
    "                            acc = 0\n",
    "                            TP = 0\n",
    "                            FP = 0\n",
    "                            TN = 0\n",
    "                            FN = 0\n",
    "                            Precision = 0\n",
    "                            Recall = 0\n",
    "                            for i in list_of_crossedevaluated:\n",
    "                                loss += i[0]\n",
    "                                acc += i[1]\n",
    "                                TP += i[2]\n",
    "                                FP += i[3]\n",
    "                                TN += i[4]\n",
    "                                FN += i[5]\n",
    "                                Precision += i[6]\n",
    "                                Recall += i[7]\n",
    "                            result10 = [loss,acc,TP,FP,TN,FN,Precision,Recall]\n",
    "                            result = []\n",
    "                            for i in range(2):\n",
    "                                result.append(result10[i]/10)\n",
    "                            result.append(TP)\n",
    "                            result.append(FP)\n",
    "                            result.append(TN)\n",
    "                            result.append(FN)\n",
    "                            for i in range(6,8):\n",
    "                                result.append(result10[i]/10)\n",
    "                            list_of_results.append(result + config)\n",
    "                            list_of_crossedevaluated.clear()\n",
    "                            print(f\"\\t{epoch}: {result}\")\n",
    "\n",
    "    print(\"\\n\\n############## DONE\")\n",
    "    print(time.time() - start)\n",
    "\n",
    "    labels = [\"Loss\", \"Accuracy\", \"TP\", \"FP\", \"TN\", \"FN\", \"Precision\", \"Recall\", \"optimiser\", \"η\", \"epoch\", \"activation function\", \"pooling\", \"layers\"]\n",
    "    dfcv = pd.DataFrame(data = list_of_results, columns=labels)\n",
    "    dfcv.to_pickle(file_name)\n",
    "\n",
    "else:\n",
    "    dfcv = pd.read_pickle(file_name)"
   ],
   "metadata": {
    "collapsed": false
   }
  },
  {
   "cell_type": "markdown",
   "source": [
    "It took 3518s process (58.5 mins) to run this"
   ],
   "metadata": {
    "collapsed": false
   }
  },
  {
   "cell_type": "markdown",
   "source": [
    "Overall 864 models were generated with different hyperparameters.\n",
    "layers_list = 3 variations\n",
    "η_list = 3 variations\n",
    "epochs = 3 variations\n",
    "optimisations = 4 variations\n",
    "activations = 4 variations\n",
    "pooling = 2 variations\n",
    "3 x 3 × 3 × 4 × 4 × 2 = 864.\n",
    "The dataframe holds the metrics for each configuration and the configuration details."
   ],
   "metadata": {
    "collapsed": false
   }
  },
  {
   "cell_type": "code",
   "execution_count": 21,
   "outputs": [
    {
     "data": {
      "text/plain": "         Loss  Accuracy     TP    FP     TN    FN  Precision    Recall  \\\n0    0.745721  0.460000   66.0  78.0   66.0  78.0   0.460000  0.460000   \n1    0.706503  0.514286   74.0  70.0   74.0  70.0   0.514286  0.514286   \n2    0.730689  0.471429   68.0  76.0   68.0  76.0   0.471429  0.471429   \n3    0.745533  0.465714   67.0  77.0   67.0  77.0   0.465714  0.465714   \n4    0.750699  0.500000   72.0  72.0   72.0  72.0   0.500000  0.500000   \n..        ...       ...    ...   ...    ...   ...        ...       ...   \n859  0.048675  0.986667  142.0   2.0  142.0   2.0   0.986667  0.986667   \n860  0.038046  1.000000  144.0   0.0  144.0   0.0   1.000000  1.000000   \n861  0.576494  0.879048  126.0  18.0  126.0  18.0   0.879048  0.879048   \n862  0.338526  0.899524  129.0  15.0  129.0  15.0   0.899524  0.899524   \n863  0.267332  0.910476  131.0  13.0  131.0  13.0   0.910476  0.910476   \n\n                                             optimiser      η  epoch  \\\n0    <class 'keras.optimizers.optimizer_v2.gradient...  0.100      3   \n1    <class 'keras.optimizers.optimizer_v2.gradient...  0.100      5   \n2    <class 'keras.optimizers.optimizer_v2.gradient...  0.100     10   \n3    <class 'keras.optimizers.optimizer_v2.gradient...  0.100      3   \n4    <class 'keras.optimizers.optimizer_v2.gradient...  0.100      5   \n..                                                 ...    ...    ...   \n859  <class 'keras.optimizers.optimizer_v2.nadam.Na...  0.001      5   \n860  <class 'keras.optimizers.optimizer_v2.nadam.Na...  0.001     10   \n861  <class 'keras.optimizers.optimizer_v2.nadam.Na...  0.001      3   \n862  <class 'keras.optimizers.optimizer_v2.nadam.Na...  0.001      5   \n863  <class 'keras.optimizers.optimizer_v2.nadam.Na...  0.001     10   \n\n    activation function pooling       layers  \n0               sigmoid  (1, 1)  [64, 16, 2]  \n1               sigmoid  (1, 1)  [64, 16, 2]  \n2               sigmoid  (1, 1)  [64, 16, 2]  \n3               sigmoid  (2, 2)  [64, 16, 2]  \n4               sigmoid  (2, 2)  [64, 16, 2]  \n..                  ...     ...          ...  \n859           LeakyReLU  (1, 1)   [16, 4, 2]  \n860           LeakyReLU  (1, 1)   [16, 4, 2]  \n861           LeakyReLU  (2, 2)   [16, 4, 2]  \n862           LeakyReLU  (2, 2)   [16, 4, 2]  \n863           LeakyReLU  (2, 2)   [16, 4, 2]  \n\n[864 rows x 14 columns]",
      "text/html": "<div>\n<style scoped>\n    .dataframe tbody tr th:only-of-type {\n        vertical-align: middle;\n    }\n\n    .dataframe tbody tr th {\n        vertical-align: top;\n    }\n\n    .dataframe thead th {\n        text-align: right;\n    }\n</style>\n<table border=\"1\" class=\"dataframe\">\n  <thead>\n    <tr style=\"text-align: right;\">\n      <th></th>\n      <th>Loss</th>\n      <th>Accuracy</th>\n      <th>TP</th>\n      <th>FP</th>\n      <th>TN</th>\n      <th>FN</th>\n      <th>Precision</th>\n      <th>Recall</th>\n      <th>optimiser</th>\n      <th>η</th>\n      <th>epoch</th>\n      <th>activation function</th>\n      <th>pooling</th>\n      <th>layers</th>\n    </tr>\n  </thead>\n  <tbody>\n    <tr>\n      <th>0</th>\n      <td>0.745721</td>\n      <td>0.460000</td>\n      <td>66.0</td>\n      <td>78.0</td>\n      <td>66.0</td>\n      <td>78.0</td>\n      <td>0.460000</td>\n      <td>0.460000</td>\n      <td>&lt;class 'keras.optimizers.optimizer_v2.gradient...</td>\n      <td>0.100</td>\n      <td>3</td>\n      <td>sigmoid</td>\n      <td>(1, 1)</td>\n      <td>[64, 16, 2]</td>\n    </tr>\n    <tr>\n      <th>1</th>\n      <td>0.706503</td>\n      <td>0.514286</td>\n      <td>74.0</td>\n      <td>70.0</td>\n      <td>74.0</td>\n      <td>70.0</td>\n      <td>0.514286</td>\n      <td>0.514286</td>\n      <td>&lt;class 'keras.optimizers.optimizer_v2.gradient...</td>\n      <td>0.100</td>\n      <td>5</td>\n      <td>sigmoid</td>\n      <td>(1, 1)</td>\n      <td>[64, 16, 2]</td>\n    </tr>\n    <tr>\n      <th>2</th>\n      <td>0.730689</td>\n      <td>0.471429</td>\n      <td>68.0</td>\n      <td>76.0</td>\n      <td>68.0</td>\n      <td>76.0</td>\n      <td>0.471429</td>\n      <td>0.471429</td>\n      <td>&lt;class 'keras.optimizers.optimizer_v2.gradient...</td>\n      <td>0.100</td>\n      <td>10</td>\n      <td>sigmoid</td>\n      <td>(1, 1)</td>\n      <td>[64, 16, 2]</td>\n    </tr>\n    <tr>\n      <th>3</th>\n      <td>0.745533</td>\n      <td>0.465714</td>\n      <td>67.0</td>\n      <td>77.0</td>\n      <td>67.0</td>\n      <td>77.0</td>\n      <td>0.465714</td>\n      <td>0.465714</td>\n      <td>&lt;class 'keras.optimizers.optimizer_v2.gradient...</td>\n      <td>0.100</td>\n      <td>3</td>\n      <td>sigmoid</td>\n      <td>(2, 2)</td>\n      <td>[64, 16, 2]</td>\n    </tr>\n    <tr>\n      <th>4</th>\n      <td>0.750699</td>\n      <td>0.500000</td>\n      <td>72.0</td>\n      <td>72.0</td>\n      <td>72.0</td>\n      <td>72.0</td>\n      <td>0.500000</td>\n      <td>0.500000</td>\n      <td>&lt;class 'keras.optimizers.optimizer_v2.gradient...</td>\n      <td>0.100</td>\n      <td>5</td>\n      <td>sigmoid</td>\n      <td>(2, 2)</td>\n      <td>[64, 16, 2]</td>\n    </tr>\n    <tr>\n      <th>...</th>\n      <td>...</td>\n      <td>...</td>\n      <td>...</td>\n      <td>...</td>\n      <td>...</td>\n      <td>...</td>\n      <td>...</td>\n      <td>...</td>\n      <td>...</td>\n      <td>...</td>\n      <td>...</td>\n      <td>...</td>\n      <td>...</td>\n      <td>...</td>\n    </tr>\n    <tr>\n      <th>859</th>\n      <td>0.048675</td>\n      <td>0.986667</td>\n      <td>142.0</td>\n      <td>2.0</td>\n      <td>142.0</td>\n      <td>2.0</td>\n      <td>0.986667</td>\n      <td>0.986667</td>\n      <td>&lt;class 'keras.optimizers.optimizer_v2.nadam.Na...</td>\n      <td>0.001</td>\n      <td>5</td>\n      <td>LeakyReLU</td>\n      <td>(1, 1)</td>\n      <td>[16, 4, 2]</td>\n    </tr>\n    <tr>\n      <th>860</th>\n      <td>0.038046</td>\n      <td>1.000000</td>\n      <td>144.0</td>\n      <td>0.0</td>\n      <td>144.0</td>\n      <td>0.0</td>\n      <td>1.000000</td>\n      <td>1.000000</td>\n      <td>&lt;class 'keras.optimizers.optimizer_v2.nadam.Na...</td>\n      <td>0.001</td>\n      <td>10</td>\n      <td>LeakyReLU</td>\n      <td>(1, 1)</td>\n      <td>[16, 4, 2]</td>\n    </tr>\n    <tr>\n      <th>861</th>\n      <td>0.576494</td>\n      <td>0.879048</td>\n      <td>126.0</td>\n      <td>18.0</td>\n      <td>126.0</td>\n      <td>18.0</td>\n      <td>0.879048</td>\n      <td>0.879048</td>\n      <td>&lt;class 'keras.optimizers.optimizer_v2.nadam.Na...</td>\n      <td>0.001</td>\n      <td>3</td>\n      <td>LeakyReLU</td>\n      <td>(2, 2)</td>\n      <td>[16, 4, 2]</td>\n    </tr>\n    <tr>\n      <th>862</th>\n      <td>0.338526</td>\n      <td>0.899524</td>\n      <td>129.0</td>\n      <td>15.0</td>\n      <td>129.0</td>\n      <td>15.0</td>\n      <td>0.899524</td>\n      <td>0.899524</td>\n      <td>&lt;class 'keras.optimizers.optimizer_v2.nadam.Na...</td>\n      <td>0.001</td>\n      <td>5</td>\n      <td>LeakyReLU</td>\n      <td>(2, 2)</td>\n      <td>[16, 4, 2]</td>\n    </tr>\n    <tr>\n      <th>863</th>\n      <td>0.267332</td>\n      <td>0.910476</td>\n      <td>131.0</td>\n      <td>13.0</td>\n      <td>131.0</td>\n      <td>13.0</td>\n      <td>0.910476</td>\n      <td>0.910476</td>\n      <td>&lt;class 'keras.optimizers.optimizer_v2.nadam.Na...</td>\n      <td>0.001</td>\n      <td>10</td>\n      <td>LeakyReLU</td>\n      <td>(2, 2)</td>\n      <td>[16, 4, 2]</td>\n    </tr>\n  </tbody>\n</table>\n<p>864 rows × 14 columns</p>\n</div>"
     },
     "execution_count": 21,
     "metadata": {},
     "output_type": "execute_result"
    }
   ],
   "source": [
    "dfcv"
   ],
   "metadata": {
    "collapsed": false
   }
  },
  {
   "cell_type": "markdown",
   "source": [
    "Filter for 0 loss\n",
    "- 5  epochs\n",
    "- 10 epochs\n",
    "\n",
    "The lower the loss the better so 0 is the most desirable. Same is true for epochs. The fewer epochs it has to run the better it is."
   ],
   "metadata": {
    "collapsed": false
   }
  },
  {
   "cell_type": "markdown",
   "source": [],
   "metadata": {
    "collapsed": false
   }
  },
  {
   "cell_type": "code",
   "execution_count": 22,
   "outputs": [
    {
     "data": {
      "text/plain": "     Loss  Accuracy     TP   FP     TN   FN  Precision  Recall  \\\n446   0.0       1.0  144.0  0.0  144.0  0.0        1.0     1.0   \n494   0.0       1.0  144.0  0.0  144.0  0.0        1.0     1.0   \n542   0.0       1.0  144.0  0.0  144.0  0.0        1.0     1.0   \n655   0.0       1.0  144.0  0.0  144.0  0.0        1.0     1.0   \n656   0.0       1.0  144.0  0.0  144.0  0.0        1.0     1.0   \n662   0.0       1.0  144.0  0.0  144.0  0.0        1.0     1.0   \n666   0.0       1.0  144.0  0.0  144.0  0.0        1.0     1.0   \n667   0.0       1.0  144.0  0.0  144.0  0.0        1.0     1.0   \n685   0.0       1.0  144.0  0.0  144.0  0.0        1.0     1.0   \n710   0.0       1.0  144.0  0.0  144.0  0.0        1.0     1.0   \n733   0.0       1.0  144.0  0.0  144.0  0.0        1.0     1.0   \n\n                                             optimiser     η  epoch  \\\n446  <class 'keras.optimizers.optimizer_v2.adam.Adam'>  0.10     10   \n494  <class 'keras.optimizers.optimizer_v2.adam.Adam'>  0.10     10   \n542  <class 'keras.optimizers.optimizer_v2.adam.Adam'>  0.01     10   \n655  <class 'keras.optimizers.optimizer_v2.rmsprop....  0.10      5   \n656  <class 'keras.optimizers.optimizer_v2.rmsprop....  0.10     10   \n662  <class 'keras.optimizers.optimizer_v2.adam.Adam'>  0.10     10   \n666  <class 'keras.optimizers.optimizer_v2.nadam.Na...  0.10      3   \n667  <class 'keras.optimizers.optimizer_v2.nadam.Na...  0.10      5   \n685  <class 'keras.optimizers.optimizer_v2.adam.Adam'>  0.10      5   \n710  <class 'keras.optimizers.optimizer_v2.adam.Adam'>  0.10     10   \n733  <class 'keras.optimizers.optimizer_v2.adam.Adam'>  0.01      5   \n\n    activation function pooling       layers  \n446                relu  (1, 1)  [64, 16, 2]  \n494                relu  (1, 1)   [16, 4, 2]  \n542                relu  (1, 1)   [32, 8, 2]  \n655           LeakyReLU  (1, 1)  [64, 16, 2]  \n656           LeakyReLU  (1, 1)  [64, 16, 2]  \n662           LeakyReLU  (1, 1)  [64, 16, 2]  \n666           LeakyReLU  (1, 1)  [64, 16, 2]  \n667           LeakyReLU  (1, 1)  [64, 16, 2]  \n685           LeakyReLU  (1, 1)   [32, 8, 2]  \n710           LeakyReLU  (1, 1)   [16, 4, 2]  \n733           LeakyReLU  (1, 1)  [64, 16, 2]  ",
      "text/html": "<div>\n<style scoped>\n    .dataframe tbody tr th:only-of-type {\n        vertical-align: middle;\n    }\n\n    .dataframe tbody tr th {\n        vertical-align: top;\n    }\n\n    .dataframe thead th {\n        text-align: right;\n    }\n</style>\n<table border=\"1\" class=\"dataframe\">\n  <thead>\n    <tr style=\"text-align: right;\">\n      <th></th>\n      <th>Loss</th>\n      <th>Accuracy</th>\n      <th>TP</th>\n      <th>FP</th>\n      <th>TN</th>\n      <th>FN</th>\n      <th>Precision</th>\n      <th>Recall</th>\n      <th>optimiser</th>\n      <th>η</th>\n      <th>epoch</th>\n      <th>activation function</th>\n      <th>pooling</th>\n      <th>layers</th>\n    </tr>\n  </thead>\n  <tbody>\n    <tr>\n      <th>446</th>\n      <td>0.0</td>\n      <td>1.0</td>\n      <td>144.0</td>\n      <td>0.0</td>\n      <td>144.0</td>\n      <td>0.0</td>\n      <td>1.0</td>\n      <td>1.0</td>\n      <td>&lt;class 'keras.optimizers.optimizer_v2.adam.Adam'&gt;</td>\n      <td>0.10</td>\n      <td>10</td>\n      <td>relu</td>\n      <td>(1, 1)</td>\n      <td>[64, 16, 2]</td>\n    </tr>\n    <tr>\n      <th>494</th>\n      <td>0.0</td>\n      <td>1.0</td>\n      <td>144.0</td>\n      <td>0.0</td>\n      <td>144.0</td>\n      <td>0.0</td>\n      <td>1.0</td>\n      <td>1.0</td>\n      <td>&lt;class 'keras.optimizers.optimizer_v2.adam.Adam'&gt;</td>\n      <td>0.10</td>\n      <td>10</td>\n      <td>relu</td>\n      <td>(1, 1)</td>\n      <td>[16, 4, 2]</td>\n    </tr>\n    <tr>\n      <th>542</th>\n      <td>0.0</td>\n      <td>1.0</td>\n      <td>144.0</td>\n      <td>0.0</td>\n      <td>144.0</td>\n      <td>0.0</td>\n      <td>1.0</td>\n      <td>1.0</td>\n      <td>&lt;class 'keras.optimizers.optimizer_v2.adam.Adam'&gt;</td>\n      <td>0.01</td>\n      <td>10</td>\n      <td>relu</td>\n      <td>(1, 1)</td>\n      <td>[32, 8, 2]</td>\n    </tr>\n    <tr>\n      <th>655</th>\n      <td>0.0</td>\n      <td>1.0</td>\n      <td>144.0</td>\n      <td>0.0</td>\n      <td>144.0</td>\n      <td>0.0</td>\n      <td>1.0</td>\n      <td>1.0</td>\n      <td>&lt;class 'keras.optimizers.optimizer_v2.rmsprop....</td>\n      <td>0.10</td>\n      <td>5</td>\n      <td>LeakyReLU</td>\n      <td>(1, 1)</td>\n      <td>[64, 16, 2]</td>\n    </tr>\n    <tr>\n      <th>656</th>\n      <td>0.0</td>\n      <td>1.0</td>\n      <td>144.0</td>\n      <td>0.0</td>\n      <td>144.0</td>\n      <td>0.0</td>\n      <td>1.0</td>\n      <td>1.0</td>\n      <td>&lt;class 'keras.optimizers.optimizer_v2.rmsprop....</td>\n      <td>0.10</td>\n      <td>10</td>\n      <td>LeakyReLU</td>\n      <td>(1, 1)</td>\n      <td>[64, 16, 2]</td>\n    </tr>\n    <tr>\n      <th>662</th>\n      <td>0.0</td>\n      <td>1.0</td>\n      <td>144.0</td>\n      <td>0.0</td>\n      <td>144.0</td>\n      <td>0.0</td>\n      <td>1.0</td>\n      <td>1.0</td>\n      <td>&lt;class 'keras.optimizers.optimizer_v2.adam.Adam'&gt;</td>\n      <td>0.10</td>\n      <td>10</td>\n      <td>LeakyReLU</td>\n      <td>(1, 1)</td>\n      <td>[64, 16, 2]</td>\n    </tr>\n    <tr>\n      <th>666</th>\n      <td>0.0</td>\n      <td>1.0</td>\n      <td>144.0</td>\n      <td>0.0</td>\n      <td>144.0</td>\n      <td>0.0</td>\n      <td>1.0</td>\n      <td>1.0</td>\n      <td>&lt;class 'keras.optimizers.optimizer_v2.nadam.Na...</td>\n      <td>0.10</td>\n      <td>3</td>\n      <td>LeakyReLU</td>\n      <td>(1, 1)</td>\n      <td>[64, 16, 2]</td>\n    </tr>\n    <tr>\n      <th>667</th>\n      <td>0.0</td>\n      <td>1.0</td>\n      <td>144.0</td>\n      <td>0.0</td>\n      <td>144.0</td>\n      <td>0.0</td>\n      <td>1.0</td>\n      <td>1.0</td>\n      <td>&lt;class 'keras.optimizers.optimizer_v2.nadam.Na...</td>\n      <td>0.10</td>\n      <td>5</td>\n      <td>LeakyReLU</td>\n      <td>(1, 1)</td>\n      <td>[64, 16, 2]</td>\n    </tr>\n    <tr>\n      <th>685</th>\n      <td>0.0</td>\n      <td>1.0</td>\n      <td>144.0</td>\n      <td>0.0</td>\n      <td>144.0</td>\n      <td>0.0</td>\n      <td>1.0</td>\n      <td>1.0</td>\n      <td>&lt;class 'keras.optimizers.optimizer_v2.adam.Adam'&gt;</td>\n      <td>0.10</td>\n      <td>5</td>\n      <td>LeakyReLU</td>\n      <td>(1, 1)</td>\n      <td>[32, 8, 2]</td>\n    </tr>\n    <tr>\n      <th>710</th>\n      <td>0.0</td>\n      <td>1.0</td>\n      <td>144.0</td>\n      <td>0.0</td>\n      <td>144.0</td>\n      <td>0.0</td>\n      <td>1.0</td>\n      <td>1.0</td>\n      <td>&lt;class 'keras.optimizers.optimizer_v2.adam.Adam'&gt;</td>\n      <td>0.10</td>\n      <td>10</td>\n      <td>LeakyReLU</td>\n      <td>(1, 1)</td>\n      <td>[16, 4, 2]</td>\n    </tr>\n    <tr>\n      <th>733</th>\n      <td>0.0</td>\n      <td>1.0</td>\n      <td>144.0</td>\n      <td>0.0</td>\n      <td>144.0</td>\n      <td>0.0</td>\n      <td>1.0</td>\n      <td>1.0</td>\n      <td>&lt;class 'keras.optimizers.optimizer_v2.adam.Adam'&gt;</td>\n      <td>0.01</td>\n      <td>5</td>\n      <td>LeakyReLU</td>\n      <td>(1, 1)</td>\n      <td>[64, 16, 2]</td>\n    </tr>\n  </tbody>\n</table>\n</div>"
     },
     "execution_count": 22,
     "metadata": {},
     "output_type": "execute_result"
    }
   ],
   "source": [
    "dfcv[dfcv.Loss == 0 ]"
   ],
   "metadata": {
    "collapsed": false
   }
  },
  {
   "cell_type": "markdown",
   "source": [
    "# Overall Best:"
   ],
   "metadata": {
    "collapsed": false
   }
  },
  {
   "cell_type": "code",
   "execution_count": 23,
   "outputs": [
    {
     "name": "stderr",
     "output_type": "stream",
     "text": [
      "C:\\Users\\barth\\AppData\\Local\\Temp\\ipykernel_9404\\2342856153.py:1: UserWarning: Boolean Series key will be reindexed to match DataFrame index.\n",
      "  dfcv[dfcv.Loss == 0 ][dfcv.epoch == 5]\n"
     ]
    },
    {
     "data": {
      "text/plain": "     Loss  Accuracy     TP   FP     TN   FN  Precision  Recall  \\\n655   0.0       1.0  144.0  0.0  144.0  0.0        1.0     1.0   \n667   0.0       1.0  144.0  0.0  144.0  0.0        1.0     1.0   \n685   0.0       1.0  144.0  0.0  144.0  0.0        1.0     1.0   \n733   0.0       1.0  144.0  0.0  144.0  0.0        1.0     1.0   \n\n                                             optimiser     η  epoch  \\\n655  <class 'keras.optimizers.optimizer_v2.rmsprop....  0.10      5   \n667  <class 'keras.optimizers.optimizer_v2.nadam.Na...  0.10      5   \n685  <class 'keras.optimizers.optimizer_v2.adam.Adam'>  0.10      5   \n733  <class 'keras.optimizers.optimizer_v2.adam.Adam'>  0.01      5   \n\n    activation function pooling       layers  \n655           LeakyReLU  (1, 1)  [64, 16, 2]  \n667           LeakyReLU  (1, 1)  [64, 16, 2]  \n685           LeakyReLU  (1, 1)   [32, 8, 2]  \n733           LeakyReLU  (1, 1)  [64, 16, 2]  ",
      "text/html": "<div>\n<style scoped>\n    .dataframe tbody tr th:only-of-type {\n        vertical-align: middle;\n    }\n\n    .dataframe tbody tr th {\n        vertical-align: top;\n    }\n\n    .dataframe thead th {\n        text-align: right;\n    }\n</style>\n<table border=\"1\" class=\"dataframe\">\n  <thead>\n    <tr style=\"text-align: right;\">\n      <th></th>\n      <th>Loss</th>\n      <th>Accuracy</th>\n      <th>TP</th>\n      <th>FP</th>\n      <th>TN</th>\n      <th>FN</th>\n      <th>Precision</th>\n      <th>Recall</th>\n      <th>optimiser</th>\n      <th>η</th>\n      <th>epoch</th>\n      <th>activation function</th>\n      <th>pooling</th>\n      <th>layers</th>\n    </tr>\n  </thead>\n  <tbody>\n    <tr>\n      <th>655</th>\n      <td>0.0</td>\n      <td>1.0</td>\n      <td>144.0</td>\n      <td>0.0</td>\n      <td>144.0</td>\n      <td>0.0</td>\n      <td>1.0</td>\n      <td>1.0</td>\n      <td>&lt;class 'keras.optimizers.optimizer_v2.rmsprop....</td>\n      <td>0.10</td>\n      <td>5</td>\n      <td>LeakyReLU</td>\n      <td>(1, 1)</td>\n      <td>[64, 16, 2]</td>\n    </tr>\n    <tr>\n      <th>667</th>\n      <td>0.0</td>\n      <td>1.0</td>\n      <td>144.0</td>\n      <td>0.0</td>\n      <td>144.0</td>\n      <td>0.0</td>\n      <td>1.0</td>\n      <td>1.0</td>\n      <td>&lt;class 'keras.optimizers.optimizer_v2.nadam.Na...</td>\n      <td>0.10</td>\n      <td>5</td>\n      <td>LeakyReLU</td>\n      <td>(1, 1)</td>\n      <td>[64, 16, 2]</td>\n    </tr>\n    <tr>\n      <th>685</th>\n      <td>0.0</td>\n      <td>1.0</td>\n      <td>144.0</td>\n      <td>0.0</td>\n      <td>144.0</td>\n      <td>0.0</td>\n      <td>1.0</td>\n      <td>1.0</td>\n      <td>&lt;class 'keras.optimizers.optimizer_v2.adam.Adam'&gt;</td>\n      <td>0.10</td>\n      <td>5</td>\n      <td>LeakyReLU</td>\n      <td>(1, 1)</td>\n      <td>[32, 8, 2]</td>\n    </tr>\n    <tr>\n      <th>733</th>\n      <td>0.0</td>\n      <td>1.0</td>\n      <td>144.0</td>\n      <td>0.0</td>\n      <td>144.0</td>\n      <td>0.0</td>\n      <td>1.0</td>\n      <td>1.0</td>\n      <td>&lt;class 'keras.optimizers.optimizer_v2.adam.Adam'&gt;</td>\n      <td>0.01</td>\n      <td>5</td>\n      <td>LeakyReLU</td>\n      <td>(1, 1)</td>\n      <td>[64, 16, 2]</td>\n    </tr>\n  </tbody>\n</table>\n</div>"
     },
     "execution_count": 23,
     "metadata": {},
     "output_type": "execute_result"
    }
   ],
   "source": [
    "dfcv[dfcv.Loss == 0 ][dfcv.epoch == 5]"
   ],
   "metadata": {
    "collapsed": false
   }
  },
  {
   "cell_type": "markdown",
   "source": [
    "# Second Best:"
   ],
   "metadata": {
    "collapsed": false
   }
  },
  {
   "cell_type": "code",
   "execution_count": 24,
   "outputs": [
    {
     "name": "stderr",
     "output_type": "stream",
     "text": [
      "C:\\Users\\barth\\AppData\\Local\\Temp\\ipykernel_9404\\2436025107.py:1: UserWarning: Boolean Series key will be reindexed to match DataFrame index.\n",
      "  dfcv[dfcv.Loss == 0 ][dfcv.epoch == 10]\n"
     ]
    },
    {
     "data": {
      "text/plain": "     Loss  Accuracy     TP   FP     TN   FN  Precision  Recall  \\\n446   0.0       1.0  144.0  0.0  144.0  0.0        1.0     1.0   \n494   0.0       1.0  144.0  0.0  144.0  0.0        1.0     1.0   \n542   0.0       1.0  144.0  0.0  144.0  0.0        1.0     1.0   \n656   0.0       1.0  144.0  0.0  144.0  0.0        1.0     1.0   \n662   0.0       1.0  144.0  0.0  144.0  0.0        1.0     1.0   \n710   0.0       1.0  144.0  0.0  144.0  0.0        1.0     1.0   \n\n                                             optimiser     η  epoch  \\\n446  <class 'keras.optimizers.optimizer_v2.adam.Adam'>  0.10     10   \n494  <class 'keras.optimizers.optimizer_v2.adam.Adam'>  0.10     10   \n542  <class 'keras.optimizers.optimizer_v2.adam.Adam'>  0.01     10   \n656  <class 'keras.optimizers.optimizer_v2.rmsprop....  0.10     10   \n662  <class 'keras.optimizers.optimizer_v2.adam.Adam'>  0.10     10   \n710  <class 'keras.optimizers.optimizer_v2.adam.Adam'>  0.10     10   \n\n    activation function pooling       layers  \n446                relu  (1, 1)  [64, 16, 2]  \n494                relu  (1, 1)   [16, 4, 2]  \n542                relu  (1, 1)   [32, 8, 2]  \n656           LeakyReLU  (1, 1)  [64, 16, 2]  \n662           LeakyReLU  (1, 1)  [64, 16, 2]  \n710           LeakyReLU  (1, 1)   [16, 4, 2]  ",
      "text/html": "<div>\n<style scoped>\n    .dataframe tbody tr th:only-of-type {\n        vertical-align: middle;\n    }\n\n    .dataframe tbody tr th {\n        vertical-align: top;\n    }\n\n    .dataframe thead th {\n        text-align: right;\n    }\n</style>\n<table border=\"1\" class=\"dataframe\">\n  <thead>\n    <tr style=\"text-align: right;\">\n      <th></th>\n      <th>Loss</th>\n      <th>Accuracy</th>\n      <th>TP</th>\n      <th>FP</th>\n      <th>TN</th>\n      <th>FN</th>\n      <th>Precision</th>\n      <th>Recall</th>\n      <th>optimiser</th>\n      <th>η</th>\n      <th>epoch</th>\n      <th>activation function</th>\n      <th>pooling</th>\n      <th>layers</th>\n    </tr>\n  </thead>\n  <tbody>\n    <tr>\n      <th>446</th>\n      <td>0.0</td>\n      <td>1.0</td>\n      <td>144.0</td>\n      <td>0.0</td>\n      <td>144.0</td>\n      <td>0.0</td>\n      <td>1.0</td>\n      <td>1.0</td>\n      <td>&lt;class 'keras.optimizers.optimizer_v2.adam.Adam'&gt;</td>\n      <td>0.10</td>\n      <td>10</td>\n      <td>relu</td>\n      <td>(1, 1)</td>\n      <td>[64, 16, 2]</td>\n    </tr>\n    <tr>\n      <th>494</th>\n      <td>0.0</td>\n      <td>1.0</td>\n      <td>144.0</td>\n      <td>0.0</td>\n      <td>144.0</td>\n      <td>0.0</td>\n      <td>1.0</td>\n      <td>1.0</td>\n      <td>&lt;class 'keras.optimizers.optimizer_v2.adam.Adam'&gt;</td>\n      <td>0.10</td>\n      <td>10</td>\n      <td>relu</td>\n      <td>(1, 1)</td>\n      <td>[16, 4, 2]</td>\n    </tr>\n    <tr>\n      <th>542</th>\n      <td>0.0</td>\n      <td>1.0</td>\n      <td>144.0</td>\n      <td>0.0</td>\n      <td>144.0</td>\n      <td>0.0</td>\n      <td>1.0</td>\n      <td>1.0</td>\n      <td>&lt;class 'keras.optimizers.optimizer_v2.adam.Adam'&gt;</td>\n      <td>0.01</td>\n      <td>10</td>\n      <td>relu</td>\n      <td>(1, 1)</td>\n      <td>[32, 8, 2]</td>\n    </tr>\n    <tr>\n      <th>656</th>\n      <td>0.0</td>\n      <td>1.0</td>\n      <td>144.0</td>\n      <td>0.0</td>\n      <td>144.0</td>\n      <td>0.0</td>\n      <td>1.0</td>\n      <td>1.0</td>\n      <td>&lt;class 'keras.optimizers.optimizer_v2.rmsprop....</td>\n      <td>0.10</td>\n      <td>10</td>\n      <td>LeakyReLU</td>\n      <td>(1, 1)</td>\n      <td>[64, 16, 2]</td>\n    </tr>\n    <tr>\n      <th>662</th>\n      <td>0.0</td>\n      <td>1.0</td>\n      <td>144.0</td>\n      <td>0.0</td>\n      <td>144.0</td>\n      <td>0.0</td>\n      <td>1.0</td>\n      <td>1.0</td>\n      <td>&lt;class 'keras.optimizers.optimizer_v2.adam.Adam'&gt;</td>\n      <td>0.10</td>\n      <td>10</td>\n      <td>LeakyReLU</td>\n      <td>(1, 1)</td>\n      <td>[64, 16, 2]</td>\n    </tr>\n    <tr>\n      <th>710</th>\n      <td>0.0</td>\n      <td>1.0</td>\n      <td>144.0</td>\n      <td>0.0</td>\n      <td>144.0</td>\n      <td>0.0</td>\n      <td>1.0</td>\n      <td>1.0</td>\n      <td>&lt;class 'keras.optimizers.optimizer_v2.adam.Adam'&gt;</td>\n      <td>0.10</td>\n      <td>10</td>\n      <td>LeakyReLU</td>\n      <td>(1, 1)</td>\n      <td>[16, 4, 2]</td>\n    </tr>\n  </tbody>\n</table>\n</div>"
     },
     "execution_count": 24,
     "metadata": {},
     "output_type": "execute_result"
    }
   ],
   "source": [
    "dfcv[dfcv.Loss == 0 ][dfcv.epoch == 10]"
   ],
   "metadata": {
    "collapsed": false
   }
  },
  {
   "cell_type": "markdown",
   "source": [
    "# Conclusion:\n",
    "\n",
    "We have a higher number of different configuration reaching 0 loss in 5 epoch using convolutional neural network than classic ANN.\n",
    "Among the best results we have:\n",
    "- __Nodes Per Layers__: `[64, 16, 2]`. This was the most frequent out of the best configurations. With also one appearance of `[32, 8, 2]`.\n",
    "- __Optimiser__: `Adam`, `RMSprop` and  `Nadam`.\n",
    "- __η__: `0.1` and `0.01`.\n",
    "- __Activation Function__ is in most case `LeakyReLU`.\n",
    "- __Max_pooling__ is `(1,1)`.\n"
   ],
   "metadata": {
    "collapsed": false
   }
  }
 ],
 "metadata": {
  "kernelspec": {
   "display_name": "Python 3",
   "language": "python",
   "name": "python3"
  },
  "language_info": {
   "codemirror_mode": {
    "name": "ipython",
    "version": 2
   },
   "file_extension": ".py",
   "mimetype": "text/x-python",
   "name": "python",
   "nbconvert_exporter": "python",
   "pygments_lexer": "ipython2",
   "version": "2.7.6"
  }
 },
 "nbformat": 4,
 "nbformat_minor": 0
}
